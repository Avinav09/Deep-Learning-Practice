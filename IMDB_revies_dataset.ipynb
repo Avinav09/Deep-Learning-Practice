{
 "cells": [
  {
   "cell_type": "code",
   "execution_count": 1,
   "id": "59b854e6",
   "metadata": {},
   "outputs": [
    {
     "name": "stderr",
     "output_type": "stream",
     "text": [
      "<string>:6: VisibleDeprecationWarning: Creating an ndarray from ragged nested sequences (which is a list-or-tuple of lists-or-tuples-or ndarrays with different lengths or shapes) is deprecated. If you meant to do this, you must specify 'dtype=object' when creating the ndarray.\n",
      "c:\\Users\\avina\\Anaconda3\\envs\\deep_learning_exploration\\lib\\site-packages\\tensorflow\\python\\keras\\datasets\\imdb.py:159: VisibleDeprecationWarning: Creating an ndarray from ragged nested sequences (which is a list-or-tuple of lists-or-tuples-or ndarrays with different lengths or shapes) is deprecated. If you meant to do this, you must specify 'dtype=object' when creating the ndarray.\n",
      "  x_train, y_train = np.array(xs[:idx]), np.array(labels[:idx])\n",
      "c:\\Users\\avina\\Anaconda3\\envs\\deep_learning_exploration\\lib\\site-packages\\tensorflow\\python\\keras\\datasets\\imdb.py:160: VisibleDeprecationWarning: Creating an ndarray from ragged nested sequences (which is a list-or-tuple of lists-or-tuples-or ndarrays with different lengths or shapes) is deprecated. If you meant to do this, you must specify 'dtype=object' when creating the ndarray.\n",
      "  x_test, y_test = np.array(xs[idx:]), np.array(labels[idx:])\n"
     ]
    }
   ],
   "source": [
    "from keras.datasets import imdb\n",
    "(train_data, train_labels), (test_data, test_labels) = imdb.load_data(num_words=10000)"
   ]
  },
  {
   "cell_type": "markdown",
   "id": "8fe58422",
   "metadata": {},
   "source": [
    "The argument num_words=10000 means you’ll only keep the top 10,000 most frequently occurring words in the training data. Rare words will be discarded. This allows you to work with vector data of manageable size."
   ]
  },
  {
   "cell_type": "code",
   "execution_count": 4,
   "id": "0e4060c3",
   "metadata": {},
   "outputs": [
    {
     "name": "stdout",
     "output_type": "stream",
     "text": [
      "Train_data shape:(25000,)\n",
      "Train_lable shape:(25000,)\n",
      "Test Data shape:(25000,)\n",
      "Test Labels shape:(25000,)\n"
     ]
    }
   ],
   "source": [
    "print(f\"Train_data shape:{train_data.shape}\")\n",
    "print(f\"Train_lable shape:{train_labels.shape}\")\n",
    "print(f\"Test Data shape:{test_data.shape}\")\n",
    "print(f\"Test Labels shape:{test_labels.shape}\")"
   ]
  },
  {
   "cell_type": "markdown",
   "id": "3df9dd58",
   "metadata": {},
   "source": [
    "The variables train_data and test_data are lists of reviews; each review is a list of word indices (encoding a sequence of words). train_labels and test_labels are lists of 0s and 1s, where 0 stands for negative and 1 stands for positive."
   ]
  },
  {
   "cell_type": "code",
   "execution_count": 5,
   "id": "acadadcc",
   "metadata": {},
   "outputs": [
    {
     "data": {
      "text/plain": [
       "9999"
      ]
     },
     "execution_count": 5,
     "metadata": {},
     "output_type": "execute_result"
    }
   ],
   "source": [
    "max([max(sequence) for sequence in train_data])"
   ]
  },
  {
   "cell_type": "code",
   "execution_count": 6,
   "id": "06ec03c0",
   "metadata": {},
   "outputs": [
    {
     "data": {
      "text/plain": [
       "\"? this film was just brilliant casting location scenery story direction everyone's really suited the part they played and you could just imagine being there robert ? is an amazing actor and now the same being director ? father came from the same scottish island as myself so i loved the fact there was a real connection with this film the witty remarks throughout the film were great it was just brilliant so much that i bought the film as soon as it was released for ? and would recommend it to everyone to watch and the fly fishing was amazing really cried at the end it was so sad and you know what they say if you cry at a film it must have been good and this definitely was also ? to the two little boy's that played the ? of norman and paul they were just brilliant children are often left out of the ? list i think because the stars that play them all grown up are such a big profile for the whole film but these children are amazing and should be praised for what they have done don't you think the whole story was so lovely because it was true and was someone's life after all that was shared with us all\""
      ]
     },
     "execution_count": 6,
     "metadata": {},
     "output_type": "execute_result"
    }
   ],
   "source": [
    "#word_index is a dictionary mapping words to an integer index.\n",
    "word_index = imdb.get_word_index()\n",
    "# word_index\n",
    "\n",
    "#reversing the word index bringing key at first then value\n",
    "reverse_word_index = dict([(value, key) for (key, value) in word_index.items()])\n",
    "\n",
    "#Decodes the review. Note that the indicesare offset by 3 because 0, 1, and 2 are reserved indices for “padding,” “start of sequence,” and “unknown.”\n",
    "decoded_review = ' '.join([reverse_word_index.get(i - 3, '?') for i in train_data[0]])\n",
    "decoded_review"
   ]
  },
  {
   "cell_type": "markdown",
   "id": "50300bc0",
   "metadata": {},
   "source": [
    "### Preparing the data:-"
   ]
  },
  {
   "cell_type": "markdown",
   "id": "25f47f1f",
   "metadata": {},
   "source": [
    "Pad your lists so that they all have the same length, turn them into an integer tensor of shape (samples, word_indices), and then use as the first layer in your network a layer capable of handling such integer tensors (the Embedding layer, which we’ll cover in detail later in the book).\n",
    "\n",
    "One-hot encode your lists to turn them into vectors of 0s and 1s. This would mean, for instance, turning the sequence [3, 5] into a 10,000-dimensional vector that would be all 0s except for indices 3 and 5, which would be 1s. Then you could use as the first layer in your network a Dense layer, capable of handling floating-point vector data."
   ]
  },
  {
   "cell_type": "code",
   "execution_count": 7,
   "id": "81be29fe",
   "metadata": {},
   "outputs": [],
   "source": [
    "import numpy as np"
   ]
  },
  {
   "cell_type": "code",
   "execution_count": 18,
   "id": "b001fd4b",
   "metadata": {},
   "outputs": [],
   "source": [
    "#Encoding the integer sequences into a binary matrix\n",
    "def vectorize_sequences(sequences, dimension=10000):\n",
    "    #Creates an all-zero matrix of shape (len(sequences),dimension)\n",
    "    results = np.zeros((len(sequences), dimension))\n",
    "    \n",
    "    for i, sequence in enumerate(sequences):\n",
    "        #Sets specific indices of results[i] to 1s\n",
    "        results[i, sequence] = 1.\n",
    "    return results\n",
    "\n",
    "\n",
    "\n",
    "x_train = vectorize_sequences(train_data)\n",
    "x_test = vectorize_sequences(test_data)"
   ]
  },
  {
   "cell_type": "code",
   "execution_count": 19,
   "id": "77b7e534",
   "metadata": {},
   "outputs": [
    {
     "name": "stdout",
     "output_type": "stream",
     "text": [
      "X_Train_data shape:(25000, 10000)\n",
      "X_Test_data shape:(25000, 10000)\n"
     ]
    }
   ],
   "source": [
    "print(f\"X_Train_data shape:{x_train.shape}\")\n",
    "print(f\"X_Test_data shape:{x_test.shape}\")"
   ]
  },
  {
   "cell_type": "code",
   "execution_count": 20,
   "id": "7f7fb9bb",
   "metadata": {},
   "outputs": [
    {
     "data": {
      "text/plain": [
       "array([0., 1., 1., ..., 0., 0., 0.])"
      ]
     },
     "execution_count": 20,
     "metadata": {},
     "output_type": "execute_result"
    }
   ],
   "source": [
    "x_train[0]"
   ]
  },
  {
   "cell_type": "code",
   "execution_count": 21,
   "id": "55ec2b15",
   "metadata": {},
   "outputs": [],
   "source": [
    "#vectorize your labels\n",
    "y_train = np.asarray(train_labels).astype('float32')\n",
    "y_test = np.asarray(test_labels).astype('float32')"
   ]
  },
  {
   "cell_type": "code",
   "execution_count": 22,
   "id": "6a2dd640",
   "metadata": {},
   "outputs": [
    {
     "data": {
      "text/plain": [
       "1.0"
      ]
     },
     "execution_count": 22,
     "metadata": {},
     "output_type": "execute_result"
    }
   ],
   "source": [
    "y_train[0]"
   ]
  },
  {
   "cell_type": "markdown",
   "id": "7905e401",
   "metadata": {},
   "source": [
    "### Building network:-"
   ]
  },
  {
   "cell_type": "markdown",
   "id": "18836585",
   "metadata": {},
   "source": [
    "The argument being passed to each Dense layer (16) is the number of hidden units of the layer. A hidden unit is a dimension in the representation space of the layer."
   ]
  },
  {
   "cell_type": "markdown",
   "id": "cfb1f9c8",
   "metadata": {},
   "source": [
    "each such Dense layer with a relu activation implements the following chain of tensor operations:\n",
    "output = relu(dot(W, input) + b)"
   ]
  },
  {
   "cell_type": "markdown",
   "id": "b85a2bae",
   "metadata": {},
   "source": [
    "Having 16 hidden units means the weight matrix W will have shape (input_dimension,16): the dot product with W will project the input data onto a 16-dimensional representation space (and then you’ll add the bias vector b and apply the relu operation)."
   ]
  },
  {
   "cell_type": "markdown",
   "id": "a5409b00",
   "metadata": {},
   "source": [
    "There are two key architecture decisions to be made about such a stack of Dense layers:\n",
    "- How many layers to use\n",
    "- How many hidden units to choose for each layer"
   ]
  },
  {
   "cell_type": "markdown",
   "id": "d0bee43b",
   "metadata": {},
   "source": [
    "The intermediate layers will use relu as their activation function, and the final layer will use a sigmoid activation \n",
    "so as to output a probability (a score between 0 and 1, indicating how likely the sample is to have the target “1”:\n",
    "how likely the review is to be positive)."
   ]
  },
  {
   "cell_type": "code",
   "execution_count": 23,
   "id": "d6b7cb1c",
   "metadata": {},
   "outputs": [],
   "source": [
    "from keras import models\n",
    "from keras import layers\n",
    "\n",
    "\n",
    "model = models.Sequential()\n",
    "model.add(layers.Dense(16, activation='relu', input_shape=(10000,)))\n",
    "model.add(layers.Dense(16, activation='relu'))\n",
    "model.add(layers.Dense(1, activation='sigmoid'))"
   ]
  },
  {
   "cell_type": "code",
   "execution_count": 4,
   "id": "3215e877",
   "metadata": {},
   "outputs": [],
   "source": [
    "#or\n",
    "\n",
    "from keras import regularizers\n",
    "\n",
    "\n",
    "#Adding L2 weight regularization to the model\n",
    "model = models.Sequential()\n",
    "model.add(layers.Dense(16, kernel_regularizer=regularizers.l2(0.001),\n",
    "activation='relu', input_shape=(10000,)))\n",
    "model.add(layers.Dense(16, kernel_regularizer=regularizers.l2(0.001),\n",
    "activation='relu'))\n",
    "model.add(layers.Dense(1, activation='sigmoid'))\n",
    "\n"
   ]
  },
  {
   "cell_type": "markdown",
   "id": "2d83ae69",
   "metadata": {},
   "source": [
    "l2(0.001) means every coefficient in the weight matrix of the layer will add 0.001 *\n",
    "weight_coefficient_value to the total loss of the network."
   ]
  },
  {
   "cell_type": "code",
   "execution_count": null,
   "id": "3ad4d84c",
   "metadata": {},
   "outputs": [],
   "source": [
    "#regularizer can also be used as \n",
    "from keras import regularizers\n",
    "regularizers.l1(0.001)\n",
    "regularizers.l1_l2(l1=0.001, l2=0.001)"
   ]
  },
  {
   "cell_type": "code",
   "execution_count": 5,
   "id": "123d64fa",
   "metadata": {},
   "outputs": [],
   "source": [
    "# using drop out regularizer for example\n",
    "\n",
    "\n",
    "model = models.Sequential()\n",
    "model.add(layers.Dense(16, activation='relu', input_shape=(10000,)))\n",
    "model.add(layers.Dropout(0.5))\n",
    "model.add(layers.Dense(16, activation='relu'))\n",
    "model.add(layers.Dropout(0.5))\n",
    "model.add(layers.Dense(1, activation='sigmoid'))"
   ]
  },
  {
   "cell_type": "code",
   "execution_count": 25,
   "id": "c26d08a0",
   "metadata": {},
   "outputs": [],
   "source": [
    "#Compiling the model\n",
    "model.compile(optimizer='rmsprop',loss='binary_crossentropy',metrics=['accuracy'])"
   ]
  },
  {
   "cell_type": "markdown",
   "id": "57399259",
   "metadata": {},
   "source": [
    "### OR"
   ]
  },
  {
   "cell_type": "code",
   "execution_count": 27,
   "id": "39a33f9e",
   "metadata": {},
   "outputs": [],
   "source": [
    "#Configuring the optimizer\n",
    "from keras import optimizers\n",
    "\n",
    "model.compile(optimizer=optimizers.RMSprop(lr=0.001),loss='binary_crossentropy',metrics=['accuracy'])"
   ]
  },
  {
   "cell_type": "markdown",
   "id": "b344c520",
   "metadata": {},
   "source": [
    "### OR "
   ]
  },
  {
   "cell_type": "code",
   "execution_count": 28,
   "id": "426eae5b",
   "metadata": {},
   "outputs": [],
   "source": [
    "#Using custom losses and metrics\n",
    "from keras import losses\n",
    "from keras import metrics\n",
    "\n",
    "model.compile(optimizer=optimizers.RMSprop(lr=0.001), loss=losses.binary_crossentropy, metrics=[metrics.binary_accuracy])"
   ]
  },
  {
   "cell_type": "markdown",
   "id": "b18b0f8c",
   "metadata": {},
   "source": [
    "### Validating your approach\n",
    "In order to monitor during training the accuracy of the model on data we have never seen before,we’ll create a validation set by setting apart 10,000 samples from the original training data."
   ]
  },
  {
   "cell_type": "code",
   "execution_count": 29,
   "id": "8a5fe01f",
   "metadata": {},
   "outputs": [],
   "source": [
    "x_val = x_train[:10000]\n",
    "partial_x_train = x_train[10000:]"
   ]
  },
  {
   "cell_type": "code",
   "execution_count": 30,
   "id": "ed04129a",
   "metadata": {},
   "outputs": [],
   "source": [
    "y_val = y_train[:10000]\n",
    "partial_y_train = y_train[10000:]"
   ]
  },
  {
   "cell_type": "markdown",
   "id": "04384980",
   "metadata": {},
   "source": [
    "### Training the model\n",
    "train the model for 20 epochs (20 iterations over all samples in the x_train and y_train tensors), in mini-batches of 512 samples. At the same time, we’ll monitor loss and accuracy on the 10,000 samples that you set apart. We do so by\n",
    "passing the validation data as the validation_data argument."
   ]
  },
  {
   "cell_type": "code",
   "execution_count": 31,
   "id": "2369db84",
   "metadata": {},
   "outputs": [
    {
     "name": "stdout",
     "output_type": "stream",
     "text": [
      "Epoch 1/20\n",
      "30/30 [==============================] - 3s 84ms/step - loss: 0.5332 - binary_accuracy: 0.7930 - val_loss: 0.4059 - val_binary_accuracy: 0.8692\n",
      "Epoch 2/20\n",
      "30/30 [==============================] - 1s 17ms/step - loss: 0.3280 - binary_accuracy: 0.8961 - val_loss: 0.3240 - val_binary_accuracy: 0.8771\n",
      "Epoch 3/20\n",
      "30/30 [==============================] - 0s 15ms/step - loss: 0.2379 - binary_accuracy: 0.9225 - val_loss: 0.2885 - val_binary_accuracy: 0.8864\n",
      "Epoch 4/20\n",
      "30/30 [==============================] - 0s 14ms/step - loss: 0.1859 - binary_accuracy: 0.9386 - val_loss: 0.2759 - val_binary_accuracy: 0.8893\n",
      "Epoch 5/20\n",
      "30/30 [==============================] - 0s 14ms/step - loss: 0.1514 - binary_accuracy: 0.9508 - val_loss: 0.2791 - val_binary_accuracy: 0.8879\n",
      "Epoch 6/20\n",
      "30/30 [==============================] - 0s 14ms/step - loss: 0.1229 - binary_accuracy: 0.9620 - val_loss: 0.2929 - val_binary_accuracy: 0.8856\n",
      "Epoch 7/20\n",
      "30/30 [==============================] - 0s 14ms/step - loss: 0.1036 - binary_accuracy: 0.9691 - val_loss: 0.3132 - val_binary_accuracy: 0.8845\n",
      "Epoch 8/20\n",
      "30/30 [==============================] - 0s 15ms/step - loss: 0.0863 - binary_accuracy: 0.9744 - val_loss: 0.3247 - val_binary_accuracy: 0.8810\n",
      "Epoch 9/20\n",
      "30/30 [==============================] - 0s 16ms/step - loss: 0.0698 - binary_accuracy: 0.9802 - val_loss: 0.3484 - val_binary_accuracy: 0.8803\n",
      "Epoch 10/20\n",
      "30/30 [==============================] - 0s 15ms/step - loss: 0.0560 - binary_accuracy: 0.9857 - val_loss: 0.3952 - val_binary_accuracy: 0.8708\n",
      "Epoch 11/20\n",
      "30/30 [==============================] - 0s 16ms/step - loss: 0.0471 - binary_accuracy: 0.9879 - val_loss: 0.3943 - val_binary_accuracy: 0.8763\n",
      "Epoch 12/20\n",
      "30/30 [==============================] - 0s 16ms/step - loss: 0.0350 - binary_accuracy: 0.9933 - val_loss: 0.4229 - val_binary_accuracy: 0.8764\n",
      "Epoch 13/20\n",
      "30/30 [==============================] - 0s 16ms/step - loss: 0.0288 - binary_accuracy: 0.9939 - val_loss: 0.4596 - val_binary_accuracy: 0.8747\n",
      "Epoch 14/20\n",
      "30/30 [==============================] - 0s 16ms/step - loss: 0.0217 - binary_accuracy: 0.9957 - val_loss: 0.5091 - val_binary_accuracy: 0.8671\n",
      "Epoch 15/20\n",
      "30/30 [==============================] - 0s 14ms/step - loss: 0.0168 - binary_accuracy: 0.9969 - val_loss: 0.5226 - val_binary_accuracy: 0.8725\n",
      "Epoch 16/20\n",
      "30/30 [==============================] - 0s 14ms/step - loss: 0.0142 - binary_accuracy: 0.9981 - val_loss: 0.5651 - val_binary_accuracy: 0.8680\n",
      "Epoch 17/20\n",
      "30/30 [==============================] - 0s 14ms/step - loss: 0.0093 - binary_accuracy: 0.9990 - val_loss: 0.7505 - val_binary_accuracy: 0.8496\n",
      "Epoch 18/20\n",
      "30/30 [==============================] - 0s 14ms/step - loss: 0.0068 - binary_accuracy: 0.9997 - val_loss: 0.6178 - val_binary_accuracy: 0.8683\n",
      "Epoch 19/20\n",
      "30/30 [==============================] - 0s 14ms/step - loss: 0.0071 - binary_accuracy: 0.9991 - val_loss: 0.6550 - val_binary_accuracy: 0.8666\n",
      "Epoch 20/20\n",
      "30/30 [==============================] - 0s 13ms/step - loss: 0.0032 - binary_accuracy: 0.9999 - val_loss: 0.6899 - val_binary_accuracy: 0.8649\n"
     ]
    },
    {
     "data": {
      "text/plain": [
       "<tensorflow.python.keras.callbacks.History at 0x276921f7248>"
      ]
     },
     "execution_count": 31,
     "metadata": {},
     "output_type": "execute_result"
    }
   ],
   "source": [
    "history = model.fit(partial_x_train, partial_y_train, epochs=20, batch_size=512, validation_data=(x_val, y_val))\n",
    "history"
   ]
  },
  {
   "cell_type": "code",
   "execution_count": 35,
   "id": "fae3554d",
   "metadata": {},
   "outputs": [
    {
     "name": "stdout",
     "output_type": "stream",
     "text": [
      "dict_keys(['loss', 'binary_accuracy', 'val_loss', 'val_binary_accuracy'])\n",
      "{'loss': [0.5332221388816833, 0.327992707490921, 0.23791737854480743, 0.18590785562992096, 0.15136386454105377, 0.12286750972270966, 0.10358810424804688, 0.08631004393100739, 0.06979212909936905, 0.0559903047978878, 0.047121431678533554, 0.03496493771672249, 0.028751900419592857, 0.02168198674917221, 0.016795504838228226, 0.01424466259777546, 0.009252596646547318, 0.006791563238948584, 0.007117044180631638, 0.0031595632899552584], 'binary_accuracy': [0.7929999828338623, 0.8960666656494141, 0.9224666953086853, 0.9386000037193298, 0.9508000016212463, 0.9620000123977661, 0.9690666794776917, 0.974399983882904, 0.9801999926567078, 0.9856666922569275, 0.987933337688446, 0.9933333396911621, 0.9939333200454712, 0.9956666827201843, 0.9969333410263062, 0.9980666637420654, 0.9990000128746033, 0.999666690826416, 0.9991333484649658, 0.9998666644096375], 'val_loss': [0.4059179425239563, 0.3239809572696686, 0.28852757811546326, 0.2758733332157135, 0.2791421413421631, 0.2929410934448242, 0.3131663203239441, 0.3247132897377014, 0.3484111726284027, 0.39518123865127563, 0.39431294798851013, 0.4229423403739929, 0.4596167504787445, 0.5091075301170349, 0.5225602984428406, 0.5650693774223328, 0.7504667639732361, 0.6178238987922668, 0.655036985874176, 0.6898853182792664], 'val_binary_accuracy': [0.8691999912261963, 0.8770999908447266, 0.8863999843597412, 0.8892999887466431, 0.8878999948501587, 0.8855999708175659, 0.8845000267028809, 0.8809999823570251, 0.880299985408783, 0.8708000183105469, 0.8762999773025513, 0.8763999938964844, 0.8747000098228455, 0.8671000003814697, 0.8725000023841858, 0.8679999709129333, 0.8496000170707703, 0.8683000206947327, 0.866599977016449, 0.8648999929428101]}\n"
     ]
    }
   ],
   "source": [
    "history_dict = history.history\n",
    "print(history_dict.keys())\n",
    "print(history_dict)"
   ]
  },
  {
   "cell_type": "markdown",
   "id": "ddb56591",
   "metadata": {},
   "source": [
    "The dictionary contains four entries: one per metric that was being monitored during training and during validation."
   ]
  },
  {
   "cell_type": "markdown",
   "id": "ced7692c",
   "metadata": {},
   "source": [
    "plot the training and validation loss side by side, as well as the training and validation accuracy"
   ]
  },
  {
   "cell_type": "code",
   "execution_count": 45,
   "id": "87a3d361",
   "metadata": {},
   "outputs": [
    {
     "data": {
      "image/png": "[encoded data removed]",
      "text/plain": [
       "<Figure size 640x480 with 1 Axes>"
      ]
     },
     "metadata": {},
     "output_type": "display_data"
    }
   ],
   "source": [
    "import matplotlib.pyplot as plt\n",
    "\n",
    "#Plotting the training and validation loss\n",
    "\n",
    "\n",
    "history_dict = history.history\n",
    "loss_values = history_dict['loss']\n",
    "val_loss_values = history_dict['val_loss']\n",
    "epochs = range(1, len(history_dict['binary_accuracy']) + 1)\n",
    "plt.plot(epochs, loss_values, 'bo', label='Training loss')\n",
    "plt.plot(epochs, val_loss_values, 'b', label='Validation loss')\n",
    "plt.title('Training and validation loss')\n",
    "plt.xlabel('Epochs')\n",
    "plt.ylabel('Loss')\n",
    "plt.legend()\n",
    "plt.show()"
   ]
  },
  {
   "cell_type": "code",
   "execution_count": 51,
   "id": "cf7ef5fb",
   "metadata": {},
   "outputs": [
    {
     "data": {
      "image/png": "[encoded data removed]",
      "text/plain": [
       "<Figure size 640x480 with 1 Axes>"
      ]
     },
     "metadata": {},
     "output_type": "display_data"
    }
   ],
   "source": [
    "# Plotting the training and validation accuracy\n",
    "plt.clf()\n",
    "acc_values = history_dict['binary_accuracy']\n",
    "val_acc_values = history_dict['val_binary_accuracy']\n",
    "plt.plot(epochs, acc_values, 'bo', label='Training acc')\n",
    "plt.plot(epochs, val_acc_values, 'b', label='Validation acc')\n",
    "plt.title('Training and validation accuracy')\n",
    "plt.xlabel('Epochs')\n",
    "plt.ylabel('Loss')\n",
    "plt.legend()\n",
    "plt.show()"
   ]
  },
  {
   "cell_type": "markdown",
   "id": "980e4872",
   "metadata": {},
   "source": [
    "what we’re seeing is overfitting: after the second epoch, we’re overoptimizing on the training data, and end up learning representations that are specific to the training data and don’t generalize to data outside of the training set.\n",
    "In this case, to prevent overfitting, you could stop training after three epochs. In general, we can use a range of techniques to mitigate overfitting,"
   ]
  },
  {
   "cell_type": "code",
   "execution_count": 52,
   "id": "be4987ba",
   "metadata": {},
   "outputs": [
    {
     "name": "stdout",
     "output_type": "stream",
     "text": [
      "Epoch 1/4\n",
      "49/49 [==============================] - 1s 12ms/step - loss: 0.5187 - binary_accuracy: 0.7943\n",
      "Epoch 2/4\n",
      "49/49 [==============================] - 1s 12ms/step - loss: 0.3005 - binary_accuracy: 0.9073\n",
      "Epoch 3/4\n",
      "49/49 [==============================] - 1s 13ms/step - loss: 0.2206 - binary_accuracy: 0.9260\n",
      "Epoch 4/4\n",
      "49/49 [==============================] - 1s 13ms/step - loss: 0.1804 - binary_accuracy: 0.9388\n",
      "782/782 [==============================] - 1s 1ms/step - loss: 0.2879 - binary_accuracy: 0.8842\n"
     ]
    },
    {
     "data": {
      "text/plain": [
       "[0.2878601849079132, 0.8841599822044373]"
      ]
     },
     "execution_count": 52,
     "metadata": {},
     "output_type": "execute_result"
    }
   ],
   "source": [
    "# Retraining a model from scratch\n",
    "model = models.Sequential()\n",
    "model.add(layers.Dense(16, activation='relu', input_shape=(10000,)))\n",
    "model.add(layers.Dense(16, activation='relu'))\n",
    "model.add(layers.Dense(1, activation='sigmoid'))\n",
    "model.compile(optimizer=optimizers.RMSprop(lr=0.001), loss=losses.binary_crossentropy, metrics=[metrics.binary_accuracy])\n",
    "model.fit(x_train, y_train, epochs=4, batch_size=512)\n",
    "results = model.evaluate(x_test, y_test)\n",
    "results"
   ]
  },
  {
   "cell_type": "code",
   "execution_count": 53,
   "id": "15c64bff",
   "metadata": {},
   "outputs": [
    {
     "data": {
      "text/plain": [
       "array([[0.2764632 ],\n",
       "       [0.99861777],\n",
       "       [0.9307198 ],\n",
       "       ...,\n",
       "       [0.13002306],\n",
       "       [0.08641118],\n",
       "       [0.7416751 ]], dtype=float32)"
      ]
     },
     "execution_count": 53,
     "metadata": {},
     "output_type": "execute_result"
    }
   ],
   "source": [
    "# Using a trained network to generate predictions on new data\n",
    "model.predict(x_test)"
   ]
  },
  {
   "cell_type": "markdown",
   "id": "09bd62a8",
   "metadata": {},
   "source": [
    "## Retraining with new activation and dense layer units:-"
   ]
  },
  {
   "cell_type": "code",
   "execution_count": 54,
   "id": "19c8b8d9",
   "metadata": {},
   "outputs": [],
   "source": [
    "\n",
    "model = models.Sequential()\n",
    "model.add(layers.Dense(16, activation='tanh', input_shape=(10000,)))\n",
    "model.add(layers.Dense(16, activation='tanh'))\n",
    "model.add(layers.Dense(1, activation='sigmoid'))"
   ]
  },
  {
   "cell_type": "code",
   "execution_count": 55,
   "id": "16e7086a",
   "metadata": {},
   "outputs": [],
   "source": [
    "model.compile(optimizer=optimizers.RMSprop(lr=0.001),loss='binary_crossentropy',metrics=['accuracy'])"
   ]
  },
  {
   "cell_type": "code",
   "execution_count": 56,
   "id": "d5dc01b7",
   "metadata": {},
   "outputs": [
    {
     "name": "stdout",
     "output_type": "stream",
     "text": [
      "Epoch 1/25\n",
      "49/49 [==============================] - 1s 12ms/step - loss: 0.4268 - accuracy: 0.8325\n",
      "Epoch 2/25\n",
      "49/49 [==============================] - 1s 12ms/step - loss: 0.2411 - accuracy: 0.9133\n",
      "Epoch 3/25\n",
      "49/49 [==============================] - 1s 11ms/step - loss: 0.1800 - accuracy: 0.9343\n",
      "Epoch 4/25\n",
      "49/49 [==============================] - 1s 11ms/step - loss: 0.1514 - accuracy: 0.9455\n",
      "Epoch 5/25\n",
      "49/49 [==============================] - 1s 11ms/step - loss: 0.1305 - accuracy: 0.9554\n",
      "Epoch 6/25\n",
      "49/49 [==============================] - 1s 12ms/step - loss: 0.1106 - accuracy: 0.9623\n",
      "Epoch 7/25\n",
      "49/49 [==============================] - 1s 12ms/step - loss: 0.1029 - accuracy: 0.9658\n",
      "Epoch 8/25\n",
      "49/49 [==============================] - 1s 12ms/step - loss: 0.0905 - accuracy: 0.9711\n",
      "Epoch 9/25\n",
      "49/49 [==============================] - 1s 12ms/step - loss: 0.0803 - accuracy: 0.9751\n",
      "Epoch 10/25\n",
      "49/49 [==============================] - 1s 11ms/step - loss: 0.0746 - accuracy: 0.9765\n",
      "Epoch 11/25\n",
      "49/49 [==============================] - 1s 11ms/step - loss: 0.0660 - accuracy: 0.9806\n",
      "Epoch 12/25\n",
      "49/49 [==============================] - 1s 11ms/step - loss: 0.0625 - accuracy: 0.9810\n",
      "Epoch 13/25\n",
      "49/49 [==============================] - 1s 11ms/step - loss: 0.0591 - accuracy: 0.9821\n",
      "Epoch 14/25\n",
      "49/49 [==============================] - 1s 11ms/step - loss: 0.0503 - accuracy: 0.9854\n",
      "Epoch 15/25\n",
      "49/49 [==============================] - 1s 13ms/step - loss: 0.0466 - accuracy: 0.9877\n",
      "Epoch 16/25\n",
      "49/49 [==============================] - 1s 11ms/step - loss: 0.0458 - accuracy: 0.9874\n",
      "Epoch 17/25\n",
      "49/49 [==============================] - 1s 11ms/step - loss: 0.0381 - accuracy: 0.9898\n",
      "Epoch 18/25\n",
      "49/49 [==============================] - 1s 14ms/step - loss: 0.0402 - accuracy: 0.9896\n",
      "Epoch 19/25\n",
      "49/49 [==============================] - 1s 13ms/step - loss: 0.0313 - accuracy: 0.9926\n",
      "Epoch 20/25\n",
      "49/49 [==============================] - 1s 13ms/step - loss: 0.0319 - accuracy: 0.9927\n",
      "Epoch 21/25\n",
      "49/49 [==============================] - 1s 12ms/step - loss: 0.0278 - accuracy: 0.9938\n",
      "Epoch 22/25\n",
      "49/49 [==============================] - 1s 13ms/step - loss: 0.0338 - accuracy: 0.9908\n",
      "Epoch 23/25\n",
      "49/49 [==============================] - 1s 13ms/step - loss: 0.0246 - accuracy: 0.9946\n",
      "Epoch 24/25\n",
      "49/49 [==============================] - 1s 13ms/step - loss: 0.0219 - accuracy: 0.9951\n",
      "Epoch 25/25\n",
      "49/49 [==============================] - 1s 12ms/step - loss: 0.0240 - accuracy: 0.9951\n"
     ]
    },
    {
     "data": {
      "text/plain": [
       "<tensorflow.python.keras.callbacks.History at 0x27690836688>"
      ]
     },
     "execution_count": 56,
     "metadata": {},
     "output_type": "execute_result"
    }
   ],
   "source": [
    "model.fit(x_train, y_train, epochs=25, batch_size=512)"
   ]
  },
  {
   "cell_type": "code",
   "execution_count": 57,
   "id": "6ad73568",
   "metadata": {},
   "outputs": [
    {
     "name": "stdout",
     "output_type": "stream",
     "text": [
      "Epoch 1/25\n",
      "30/30 [==============================] - 3s 94ms/step - loss: 0.0115 - accuracy: 0.9989 - val_loss: 0.0155 - val_accuracy: 0.9978\n",
      "Epoch 2/25\n",
      "30/30 [==============================] - 1s 17ms/step - loss: 0.0264 - accuracy: 0.9935 - val_loss: 0.0192 - val_accuracy: 0.9964\n",
      "Epoch 3/25\n",
      "30/30 [==============================] - 1s 19ms/step - loss: 0.0097 - accuracy: 0.9989 - val_loss: 0.0215 - val_accuracy: 0.9959\n",
      "Epoch 4/25\n",
      "30/30 [==============================] - 0s 16ms/step - loss: 0.0094 - accuracy: 0.9989 - val_loss: 0.0294 - val_accuracy: 0.9920\n",
      "Epoch 5/25\n",
      "30/30 [==============================] - 1s 18ms/step - loss: 0.0204 - accuracy: 0.9958 - val_loss: 0.0469 - val_accuracy: 0.9860\n",
      "Epoch 6/25\n",
      "30/30 [==============================] - 0s 15ms/step - loss: 0.0083 - accuracy: 0.9989 - val_loss: 0.0575 - val_accuracy: 0.9822\n",
      "Epoch 7/25\n",
      "30/30 [==============================] - 0s 14ms/step - loss: 0.0075 - accuracy: 0.9991 - val_loss: 0.0750 - val_accuracy: 0.9774\n",
      "Epoch 8/25\n",
      "30/30 [==============================] - 0s 14ms/step - loss: 0.0148 - accuracy: 0.9967 - val_loss: 0.0974 - val_accuracy: 0.9717\n",
      "Epoch 9/25\n",
      "30/30 [==============================] - 0s 15ms/step - loss: 0.0069 - accuracy: 0.9992 - val_loss: 0.1125 - val_accuracy: 0.9678\n",
      "Epoch 10/25\n",
      "30/30 [==============================] - 0s 17ms/step - loss: 0.0068 - accuracy: 0.9992 - val_loss: 0.1338 - val_accuracy: 0.9623\n",
      "Epoch 11/25\n",
      "30/30 [==============================] - 0s 15ms/step - loss: 0.0131 - accuracy: 0.9970 - val_loss: 0.1590 - val_accuracy: 0.9585\n",
      "Epoch 12/25\n",
      "30/30 [==============================] - 0s 14ms/step - loss: 0.0063 - accuracy: 0.9993 - val_loss: 0.1717 - val_accuracy: 0.9546\n",
      "Epoch 13/25\n",
      "30/30 [==============================] - 0s 16ms/step - loss: 0.0062 - accuracy: 0.9993 - val_loss: 0.1864 - val_accuracy: 0.9530\n",
      "Epoch 14/25\n",
      "30/30 [==============================] - 0s 14ms/step - loss: 0.0062 - accuracy: 0.9993 - val_loss: 0.2163 - val_accuracy: 0.9478\n",
      "Epoch 15/25\n",
      "30/30 [==============================] - 0s 14ms/step - loss: 0.0096 - accuracy: 0.9985 - val_loss: 0.2404 - val_accuracy: 0.9413\n",
      "Epoch 16/25\n",
      "30/30 [==============================] - 0s 14ms/step - loss: 0.0057 - accuracy: 0.9993 - val_loss: 0.2522 - val_accuracy: 0.9405\n",
      "Epoch 17/25\n",
      "30/30 [==============================] - 0s 16ms/step - loss: 0.0056 - accuracy: 0.9993 - val_loss: 0.2672 - val_accuracy: 0.9383\n",
      "Epoch 18/25\n",
      "30/30 [==============================] - 0s 16ms/step - loss: 0.0056 - accuracy: 0.9993 - val_loss: 0.2910 - val_accuracy: 0.9372\n",
      "Epoch 19/25\n",
      "30/30 [==============================] - 0s 16ms/step - loss: 0.0056 - accuracy: 0.9993 - val_loss: 0.3933 - val_accuracy: 0.9230\n",
      "Epoch 20/25\n",
      "30/30 [==============================] - 1s 18ms/step - loss: 0.0056 - accuracy: 0.9993 - val_loss: 0.4957 - val_accuracy: 0.9070\n",
      "Epoch 21/25\n",
      "30/30 [==============================] - 0s 16ms/step - loss: 0.0082 - accuracy: 0.9987 - val_loss: 0.3539 - val_accuracy: 0.9287\n",
      "Epoch 22/25\n",
      "30/30 [==============================] - 0s 16ms/step - loss: 0.0054 - accuracy: 0.9993 - val_loss: 0.3740 - val_accuracy: 0.9267\n",
      "Epoch 23/25\n",
      "30/30 [==============================] - 0s 16ms/step - loss: 0.0051 - accuracy: 0.9994 - val_loss: 0.3759 - val_accuracy: 0.9259\n",
      "Epoch 24/25\n",
      "30/30 [==============================] - 0s 15ms/step - loss: 0.0051 - accuracy: 0.9994 - val_loss: 0.3899 - val_accuracy: 0.9238\n",
      "Epoch 25/25\n",
      "30/30 [==============================] - 0s 14ms/step - loss: 0.0103 - accuracy: 0.9981 - val_loss: 0.4434 - val_accuracy: 0.9164\n"
     ]
    },
    {
     "data": {
      "text/plain": [
       "<tensorflow.python.keras.callbacks.History at 0x27692285d08>"
      ]
     },
     "execution_count": 57,
     "metadata": {},
     "output_type": "execute_result"
    }
   ],
   "source": [
    "history = model.fit(partial_x_train, partial_y_train, epochs=25, batch_size=512, validation_data=(x_val, y_val))\n",
    "history"
   ]
  },
  {
   "cell_type": "code",
   "execution_count": 58,
   "id": "7280d646",
   "metadata": {},
   "outputs": [
    {
     "name": "stdout",
     "output_type": "stream",
     "text": [
      "dict_keys(['loss', 'accuracy', 'val_loss', 'val_accuracy'])\n",
      "{'loss': [0.011450939811766148, 0.026442045345902443, 0.009727614000439644, 0.009379743598401546, 0.020372437313199043, 0.008304912596940994, 0.007542124018073082, 0.014794363640248775, 0.006888174451887608, 0.006774970795959234, 0.01305233035236597, 0.006276857573539019, 0.006236863322556019, 0.0061819725669920444, 0.009620727971196175, 0.005660537630319595, 0.005640395916998386, 0.005618749186396599, 0.005613186862319708, 0.005612749606370926, 0.008170843124389648, 0.005428472068160772, 0.005078986752778292, 0.005062557756900787, 0.01034305989742279], 'accuracy': [0.9988666772842407, 0.9935333132743835, 0.9989333152770996, 0.9989333152770996, 0.9958000183105469, 0.9989333152770996, 0.9991333484649658, 0.9967333078384399, 0.9991999864578247, 0.9991999864578247, 0.996999979019165, 0.9992666840553284, 0.9992666840553284, 0.9992666840553284, 0.9984666705131531, 0.9993333220481873, 0.9993333220481873, 0.9993333220481873, 0.9993333220481873, 0.9993333220481873, 0.9987333416938782, 0.9993333220481873, 0.9994000196456909, 0.9994000196456909, 0.9980666637420654], 'val_loss': [0.015501446090638638, 0.019248224794864655, 0.021475140005350113, 0.029409337788820267, 0.04690966755151749, 0.05746990442276001, 0.0749930888414383, 0.09742043167352676, 0.1125272586941719, 0.13380034267902374, 0.15898962318897247, 0.17169144749641418, 0.1864292025566101, 0.21629594266414642, 0.24039006233215332, 0.25221705436706543, 0.26723992824554443, 0.2910138964653015, 0.3932582139968872, 0.49571704864501953, 0.3539280891418457, 0.3739999830722809, 0.37594059109687805, 0.3898923695087433, 0.4434211850166321], 'val_accuracy': [0.9977999925613403, 0.996399998664856, 0.9958999752998352, 0.9919999837875366, 0.9860000014305115, 0.982200026512146, 0.977400004863739, 0.9717000126838684, 0.9678000211715698, 0.9623000025749207, 0.9585000276565552, 0.9545999765396118, 0.953000009059906, 0.9477999806404114, 0.9412999749183655, 0.940500020980835, 0.9383000135421753, 0.9372000098228455, 0.9229999780654907, 0.9070000052452087, 0.9286999702453613, 0.9266999959945679, 0.9258999824523926, 0.923799991607666, 0.9164000153541565]}\n"
     ]
    }
   ],
   "source": [
    "history_dict = history.history\n",
    "print(history_dict.keys())\n",
    "print(history_dict)"
   ]
  },
  {
   "cell_type": "code",
   "execution_count": 60,
   "id": "0f83847b",
   "metadata": {},
   "outputs": [
    {
     "data": {
      "image/png": "[encoded data removed]",
      "text/plain": [
       "<Figure size 640x480 with 1 Axes>"
      ]
     },
     "metadata": {},
     "output_type": "display_data"
    }
   ],
   "source": [
    "#Plotting the training and validation loss\n",
    "\n",
    "\n",
    "history_dict = history.history\n",
    "loss_values = history_dict['loss']\n",
    "val_loss_values = history_dict['val_loss']\n",
    "epochs = range(1, len(history_dict['accuracy']) + 1)\n",
    "plt.plot(epochs, loss_values, 'bo', label='Training loss')\n",
    "plt.plot(epochs, val_loss_values, 'b', label='Validation loss')\n",
    "plt.title('Training and validation loss')\n",
    "plt.xlabel('Epochs')\n",
    "plt.ylabel('Loss')\n",
    "plt.legend()\n",
    "plt.show()"
   ]
  },
  {
   "cell_type": "code",
   "execution_count": 61,
   "id": "7f81f653",
   "metadata": {},
   "outputs": [
    {
     "data": {
      "image/png": "[encoded data removed]",
      "text/plain": [
       "<Figure size 640x480 with 1 Axes>"
      ]
     },
     "metadata": {},
     "output_type": "display_data"
    }
   ],
   "source": [
    "# Plotting the training and validation accuracy\n",
    "plt.clf()\n",
    "acc_values = history_dict['accuracy']\n",
    "val_acc_values = history_dict['val_accuracy']\n",
    "plt.plot(epochs, acc_values, 'bo', label='Training acc')\n",
    "plt.plot(epochs, val_acc_values, 'b', label='Validation acc')\n",
    "plt.title('Training and validation accuracy')\n",
    "plt.xlabel('Epochs')\n",
    "plt.ylabel('Loss')\n",
    "plt.legend()\n",
    "plt.show()"
   ]
  },
  {
   "cell_type": "code",
   "execution_count": 70,
   "id": "6f68082f",
   "metadata": {},
   "outputs": [
    {
     "name": "stdout",
     "output_type": "stream",
     "text": [
      "Epoch 1/3\n",
      "49/49 [==============================] - 2s 41ms/step - loss: 0.4219 - accuracy: 0.8264 - val_loss: 0.2570 - val_accuracy: 0.9122\n",
      "Epoch 2/3\n",
      "49/49 [==============================] - 1s 16ms/step - loss: 0.2295 - accuracy: 0.9156 - val_loss: 0.1606 - val_accuracy: 0.9473\n",
      "Epoch 3/3\n",
      "49/49 [==============================] - 1s 14ms/step - loss: 0.1762 - accuracy: 0.9350 - val_loss: 0.1272 - val_accuracy: 0.9598\n",
      "782/782 [==============================] - 1s 2ms/step - loss: 0.2984 - accuracy: 0.8830\n"
     ]
    },
    {
     "data": {
      "text/plain": [
       "[0.2984010577201843, 0.8830400109291077]"
      ]
     },
     "execution_count": 70,
     "metadata": {},
     "output_type": "execute_result"
    }
   ],
   "source": [
    "\n",
    "model = models.Sequential()\n",
    "model.add(layers.Dense(16, activation='tanh', input_shape=(10000,)))\n",
    "model.add(layers.Dense(16, activation='tanh'))\n",
    "model.add(layers.Dense(1, activation='sigmoid'))\n",
    "\n",
    "model.compile(optimizer=optimizers.RMSprop(lr=0.001),loss='binary_crossentropy',metrics=['accuracy'])\n",
    "\n",
    "model.fit(x_train, y_train, epochs=3\n",
    "          , batch_size=512,validation_data=(x_val, y_val))\n",
    "results = model.evaluate(x_test, y_test)\n",
    "results"
   ]
  },
  {
   "cell_type": "code",
   "execution_count": 81,
   "id": "59d6ddfd",
   "metadata": {},
   "outputs": [],
   "source": [
    "# Using a trained network to generate predictions on new data\n",
    "predicted_prob = model.predict(x_test)"
   ]
  },
  {
   "cell_type": "code",
   "execution_count": 84,
   "id": "1ce53836",
   "metadata": {},
   "outputs": [
    {
     "data": {
      "text/plain": [
       "[0.0,\n",
       " 1,\n",
       " 1,\n",
       " 1,\n",
       " 1,\n",
       " 1,\n",
       " 1,\n",
       " 0.0,\n",
       " 1,\n",
       " 1,\n",
       " 1,\n",
       " 0.0,\n",
       " 0.0,\n",
       " 0.0,\n",
       " 1,\n",
       " 0.0,\n",
       " 1,\n",
       " 1,\n",
       " 0.0,\n",
       " 0.0,\n",
       " 1,\n",
       " 1,\n",
       " 0.0,\n",
       " 1,\n",
       " 1,\n",
       " 1,\n",
       " 0.0,\n",
       " 1,\n",
       " 1,\n",
       " 0.0,\n",
       " 1,\n",
       " 0.0,\n",
       " 1,\n",
       " 0.0,\n",
       " 0.0,\n",
       " 0.0,\n",
       " 1,\n",
       " 1,\n",
       " 0.0,\n",
       " 0.0,\n",
       " 1,\n",
       " 1,\n",
       " 0.0,\n",
       " 1,\n",
       " 1,\n",
       " 1,\n",
       " 0.0,\n",
       " 0.0,\n",
       " 0.0,\n",
       " 0.0,\n",
       " 0.0,\n",
       " 0.0,\n",
       " 1,\n",
       " 1,\n",
       " 1,\n",
       " 1,\n",
       " 1,\n",
       " 1,\n",
       " 0.0,\n",
       " 1,\n",
       " 0.0,\n",
       " 0.0,\n",
       " 1,\n",
       " 0.0,\n",
       " 0.0,\n",
       " 1,\n",
       " 0.0,\n",
       " 1,\n",
       " 1,\n",
       " 1,\n",
       " 1,\n",
       " 1,\n",
       " 1,\n",
       " 0.0,\n",
       " 0.0,\n",
       " 0.0,\n",
       " 0.0,\n",
       " 1,\n",
       " 1,\n",
       " 0.0,\n",
       " 1,\n",
       " 0.0,\n",
       " 1,\n",
       " 1,\n",
       " 0.0,\n",
       " 0.0,\n",
       " 0.0,\n",
       " 1,\n",
       " 0.0,\n",
       " 1,\n",
       " 1,\n",
       " 1,\n",
       " 0.0,\n",
       " 1,\n",
       " 1,\n",
       " 0.0,\n",
       " 1,\n",
       " 1,\n",
       " 0.0,\n",
       " 0.0,\n",
       " 0.0,\n",
       " 0.0,\n",
       " 0.0,\n",
       " 0.0,\n",
       " 0.0,\n",
       " 0.0,\n",
       " 0.0,\n",
       " 0.0,\n",
       " 1,\n",
       " 1,\n",
       " 1,\n",
       " 0.0,\n",
       " 1,\n",
       " 0.0,\n",
       " 0.0,\n",
       " 1,\n",
       " 1,\n",
       " 0.0,\n",
       " 1,\n",
       " 1,\n",
       " 0.0,\n",
       " 0.0,\n",
       " 0.0,\n",
       " 1,\n",
       " 1,\n",
       " 1,\n",
       " 1,\n",
       " 0.0,\n",
       " 0.0,\n",
       " 0.0,\n",
       " 1,\n",
       " 0.0,\n",
       " 0.0,\n",
       " 1,\n",
       " 0.0,\n",
       " 0.0,\n",
       " 0.0,\n",
       " 0.0,\n",
       " 0.0,\n",
       " 0.0,\n",
       " 1,\n",
       " 0.0,\n",
       " 1,\n",
       " 0.0,\n",
       " 0.0,\n",
       " 1,\n",
       " 1,\n",
       " 1,\n",
       " 1,\n",
       " 0.0,\n",
       " 0.0,\n",
       " 0.0,\n",
       " 1,\n",
       " 1,\n",
       " 0.0,\n",
       " 1,\n",
       " 1,\n",
       " 1,\n",
       " 0.0,\n",
       " 0.0,\n",
       " 0.0,\n",
       " 0.0,\n",
       " 0.0,\n",
       " 0.0,\n",
       " 1,\n",
       " 0.0,\n",
       " 1,\n",
       " 1,\n",
       " 0.0,\n",
       " 0.0,\n",
       " 0.0,\n",
       " 1,\n",
       " 0.0,\n",
       " 1,\n",
       " 1,\n",
       " 0.0,\n",
       " 0.0,\n",
       " 0.0,\n",
       " 0.0,\n",
       " 0.0,\n",
       " 0.0,\n",
       " 0.0,\n",
       " 0.0,\n",
       " 0.0,\n",
       " 1,\n",
       " 0.0,\n",
       " 0.0,\n",
       " 0.0,\n",
       " 1,\n",
       " 0.0,\n",
       " 1,\n",
       " 1,\n",
       " 0.0,\n",
       " 0.0,\n",
       " 0.0,\n",
       " 1,\n",
       " 1,\n",
       " 0.0,\n",
       " 0.0,\n",
       " 0.0,\n",
       " 1,\n",
       " 0.0,\n",
       " 0.0,\n",
       " 1,\n",
       " 0.0,\n",
       " 0.0,\n",
       " 1,\n",
       " 0.0,\n",
       " 0.0,\n",
       " 1,\n",
       " 1,\n",
       " 1,\n",
       " 1,\n",
       " 0.0,\n",
       " 0.0,\n",
       " 0.0,\n",
       " 0.0,\n",
       " 0.0,\n",
       " 1,\n",
       " 0.0,\n",
       " 0.0,\n",
       " 1,\n",
       " 0.0,\n",
       " 1,\n",
       " 1,\n",
       " 1,\n",
       " 1,\n",
       " 1,\n",
       " 0.0,\n",
       " 1,\n",
       " 0.0,\n",
       " 1,\n",
       " 0.0,\n",
       " 1,\n",
       " 0.0,\n",
       " 1,\n",
       " 0.0,\n",
       " 1,\n",
       " 0.0,\n",
       " 1,\n",
       " 0.0,\n",
       " 0.0,\n",
       " 1,\n",
       " 0.0,\n",
       " 1,\n",
       " 1,\n",
       " 0.0,\n",
       " 1,\n",
       " 1,\n",
       " 1,\n",
       " 0.0,\n",
       " 1,\n",
       " 0.0,\n",
       " 1,\n",
       " 0.0,\n",
       " 0.0,\n",
       " 1,\n",
       " 1,\n",
       " 1,\n",
       " 1,\n",
       " 0.0,\n",
       " 0.0,\n",
       " 0.0,\n",
       " 1,\n",
       " 1,\n",
       " 1,\n",
       " 1,\n",
       " 0.0,\n",
       " 0.0,\n",
       " 1,\n",
       " 1,\n",
       " 1,\n",
       " 1,\n",
       " 1,\n",
       " 0.0,\n",
       " 0.0,\n",
       " 0.0,\n",
       " 0.0,\n",
       " 1,\n",
       " 0.0,\n",
       " 1,\n",
       " 0.0,\n",
       " 1,\n",
       " 1,\n",
       " 0.0,\n",
       " 1,\n",
       " 0.0,\n",
       " 1,\n",
       " 1,\n",
       " 1,\n",
       " 1,\n",
       " 0.0,\n",
       " 1,\n",
       " 0.0,\n",
       " 0.0,\n",
       " 0.0,\n",
       " 1,\n",
       " 0.0,\n",
       " 1,\n",
       " 1,\n",
       " 0.0,\n",
       " 1,\n",
       " 1,\n",
       " 0.0,\n",
       " 0.0,\n",
       " 1,\n",
       " 0.0,\n",
       " 1,\n",
       " 1,\n",
       " 0.0,\n",
       " 1,\n",
       " 0.0,\n",
       " 0.0,\n",
       " 1,\n",
       " 1,\n",
       " 0.0,\n",
       " 0.0,\n",
       " 0.0,\n",
       " 1,\n",
       " 1,\n",
       " 0.0,\n",
       " 0.0,\n",
       " 1,\n",
       " 1,\n",
       " 1,\n",
       " 0.0,\n",
       " 0.0,\n",
       " 1,\n",
       " 1,\n",
       " 0.0,\n",
       " 0.0,\n",
       " 1,\n",
       " 1,\n",
       " 0.0,\n",
       " 0.0,\n",
       " 0.0,\n",
       " 1,\n",
       " 1,\n",
       " 1,\n",
       " 0.0,\n",
       " 0.0,\n",
       " 1,\n",
       " 0.0,\n",
       " 1,\n",
       " 0.0,\n",
       " 1,\n",
       " 0.0,\n",
       " 1,\n",
       " 1,\n",
       " 1,\n",
       " 1,\n",
       " 1,\n",
       " 0.0,\n",
       " 0.0,\n",
       " 0.0,\n",
       " 0.0,\n",
       " 0.0,\n",
       " 1,\n",
       " 0.0,\n",
       " 1,\n",
       " 0.0,\n",
       " 1,\n",
       " 1,\n",
       " 0.0,\n",
       " 1,\n",
       " 1,\n",
       " 1,\n",
       " 1,\n",
       " 0.0,\n",
       " 0.0,\n",
       " 1,\n",
       " 1,\n",
       " 0.0,\n",
       " 1,\n",
       " 1,\n",
       " 0.0,\n",
       " 1,\n",
       " 0.0,\n",
       " 1,\n",
       " 0.0,\n",
       " 1,\n",
       " 1,\n",
       " 0.0,\n",
       " 1,\n",
       " 1,\n",
       " 1,\n",
       " 1,\n",
       " 1,\n",
       " 1,\n",
       " 0.0,\n",
       " 0.0,\n",
       " 0.0,\n",
       " 0.0,\n",
       " 0.0,\n",
       " 0.0,\n",
       " 0.0,\n",
       " 1,\n",
       " 1,\n",
       " 1,\n",
       " 1,\n",
       " 0.0,\n",
       " 1,\n",
       " 1,\n",
       " 0.0,\n",
       " 0.0,\n",
       " 0.0,\n",
       " 1,\n",
       " 1,\n",
       " 1,\n",
       " 0.0,\n",
       " 1,\n",
       " 1,\n",
       " 1,\n",
       " 1,\n",
       " 1,\n",
       " 1,\n",
       " 1,\n",
       " 0.0,\n",
       " 1,\n",
       " 1,\n",
       " 0.0,\n",
       " 0.0,\n",
       " 1,\n",
       " 1,\n",
       " 0.0,\n",
       " 0.0,\n",
       " 1,\n",
       " 1,\n",
       " 0.0,\n",
       " 0.0,\n",
       " 1,\n",
       " 0.0,\n",
       " 0.0,\n",
       " 0.0,\n",
       " 1,\n",
       " 0.0,\n",
       " 0.0,\n",
       " 1,\n",
       " 0.0,\n",
       " 0.0,\n",
       " 0.0,\n",
       " 0.0,\n",
       " 1,\n",
       " 0.0,\n",
       " 0.0,\n",
       " 0.0,\n",
       " 1,\n",
       " 1,\n",
       " 1,\n",
       " 0.0,\n",
       " 0.0,\n",
       " 0.0,\n",
       " 1,\n",
       " 0.0,\n",
       " 0.0,\n",
       " 0.0,\n",
       " 0.0,\n",
       " 0.0,\n",
       " 0.0,\n",
       " 0.0,\n",
       " 0.0,\n",
       " 1,\n",
       " 0.0,\n",
       " 0.0,\n",
       " 1,\n",
       " 1,\n",
       " 1,\n",
       " 1,\n",
       " 0.0,\n",
       " 1,\n",
       " 0.0,\n",
       " 0.0,\n",
       " 1,\n",
       " 1,\n",
       " 0.0,\n",
       " 0.0,\n",
       " 1,\n",
       " 1,\n",
       " 1,\n",
       " 1,\n",
       " 0.0,\n",
       " 1,\n",
       " 1,\n",
       " 1,\n",
       " 0.0,\n",
       " 0.0,\n",
       " 0.0,\n",
       " 1,\n",
       " 1,\n",
       " 0.0,\n",
       " 0.0,\n",
       " 1,\n",
       " 0.0,\n",
       " 1,\n",
       " 0.0,\n",
       " 0.0,\n",
       " 1,\n",
       " 0.0,\n",
       " 1,\n",
       " 1,\n",
       " 1,\n",
       " 1,\n",
       " 1,\n",
       " 1,\n",
       " 1,\n",
       " 1,\n",
       " 1,\n",
       " 1,\n",
       " 0.0,\n",
       " 1,\n",
       " 1,\n",
       " 1,\n",
       " 0.0,\n",
       " 0.0,\n",
       " 1,\n",
       " 1,\n",
       " 1,\n",
       " 0.0,\n",
       " 1,\n",
       " 1,\n",
       " 0.0,\n",
       " 1,\n",
       " 1,\n",
       " 0.0,\n",
       " 0.0,\n",
       " 0.0,\n",
       " 0.0,\n",
       " 1,\n",
       " 1,\n",
       " 1,\n",
       " 1,\n",
       " 1,\n",
       " 1,\n",
       " 1,\n",
       " 0.0,\n",
       " 0.0,\n",
       " 0.0,\n",
       " 0.0,\n",
       " 0.0,\n",
       " 0.0,\n",
       " 0.0,\n",
       " 0.0,\n",
       " 1,\n",
       " 0.0,\n",
       " 0.0,\n",
       " 1,\n",
       " 1,\n",
       " 0.0,\n",
       " 0.0,\n",
       " 0.0,\n",
       " 0.0,\n",
       " 0.0,\n",
       " 0.0,\n",
       " 0.0,\n",
       " 0.0,\n",
       " 0.0,\n",
       " 1,\n",
       " 1,\n",
       " 1,\n",
       " 1,\n",
       " 1,\n",
       " 1,\n",
       " 0.0,\n",
       " 1,\n",
       " 1,\n",
       " 0.0,\n",
       " 1,\n",
       " 0.0,\n",
       " 1,\n",
       " 1,\n",
       " 1,\n",
       " 1,\n",
       " 1,\n",
       " 1,\n",
       " 1,\n",
       " 1,\n",
       " 0.0,\n",
       " 0.0,\n",
       " 1,\n",
       " 1,\n",
       " 1,\n",
       " 0.0,\n",
       " 0.0,\n",
       " 1,\n",
       " 0.0,\n",
       " 1,\n",
       " 0.0,\n",
       " 0.0,\n",
       " 0.0,\n",
       " 1,\n",
       " 1,\n",
       " 1,\n",
       " 1,\n",
       " 1,\n",
       " 0.0,\n",
       " 1,\n",
       " 1,\n",
       " 1,\n",
       " 1,\n",
       " 1,\n",
       " 0.0,\n",
       " 0.0,\n",
       " 0.0,\n",
       " 1,\n",
       " 0.0,\n",
       " 0.0,\n",
       " 0.0,\n",
       " 0.0,\n",
       " 1,\n",
       " 1,\n",
       " 1,\n",
       " 1,\n",
       " 0.0,\n",
       " 0.0,\n",
       " 1,\n",
       " 1,\n",
       " 1,\n",
       " 1,\n",
       " 0.0,\n",
       " 0.0,\n",
       " 0.0,\n",
       " 0.0,\n",
       " 0.0,\n",
       " 1,\n",
       " 0.0,\n",
       " 1,\n",
       " 0.0,\n",
       " 0.0,\n",
       " 1,\n",
       " 0.0,\n",
       " 0.0,\n",
       " 1,\n",
       " 1,\n",
       " 0.0,\n",
       " 0.0,\n",
       " 0.0,\n",
       " 0.0,\n",
       " 1,\n",
       " 0.0,\n",
       " 0.0,\n",
       " 1,\n",
       " 0.0,\n",
       " 0.0,\n",
       " 0.0,\n",
       " 1,\n",
       " 1,\n",
       " 1,\n",
       " 0.0,\n",
       " 1,\n",
       " 0.0,\n",
       " 0.0,\n",
       " 0.0,\n",
       " 0.0,\n",
       " 0.0,\n",
       " 0.0,\n",
       " 0.0,\n",
       " 0.0,\n",
       " 1,\n",
       " 1,\n",
       " 0.0,\n",
       " 1,\n",
       " 0.0,\n",
       " 0.0,\n",
       " 1,\n",
       " 0.0,\n",
       " 0.0,\n",
       " 0.0,\n",
       " 0.0,\n",
       " 0.0,\n",
       " 1,\n",
       " 0.0,\n",
       " 0.0,\n",
       " 1,\n",
       " 0.0,\n",
       " 0.0,\n",
       " 1,\n",
       " 0.0,\n",
       " 1,\n",
       " 0.0,\n",
       " 1,\n",
       " 0.0,\n",
       " 1,\n",
       " 1,\n",
       " 0.0,\n",
       " 1,\n",
       " 0.0,\n",
       " 0.0,\n",
       " 1,\n",
       " 0.0,\n",
       " 0.0,\n",
       " 1,\n",
       " 0.0,\n",
       " 1,\n",
       " 0.0,\n",
       " 1,\n",
       " 0.0,\n",
       " 0.0,\n",
       " 0.0,\n",
       " 1,\n",
       " 1,\n",
       " 1,\n",
       " 0.0,\n",
       " 1,\n",
       " 0.0,\n",
       " 1,\n",
       " 1,\n",
       " 0.0,\n",
       " 0.0,\n",
       " 1,\n",
       " 1,\n",
       " 0.0,\n",
       " 0.0,\n",
       " 0.0,\n",
       " 0.0,\n",
       " 0.0,\n",
       " 0.0,\n",
       " 1,\n",
       " 0.0,\n",
       " 1,\n",
       " 0.0,\n",
       " 1,\n",
       " 1,\n",
       " 1,\n",
       " 1,\n",
       " 0.0,\n",
       " 1,\n",
       " 0.0,\n",
       " 1,\n",
       " 0.0,\n",
       " 1,\n",
       " 0.0,\n",
       " 0.0,\n",
       " 0.0,\n",
       " 1,\n",
       " 0.0,\n",
       " 0.0,\n",
       " 1,\n",
       " 1,\n",
       " 0.0,\n",
       " 0.0,\n",
       " 1,\n",
       " 1,\n",
       " 1,\n",
       " 0.0,\n",
       " 0.0,\n",
       " 1,\n",
       " 0.0,\n",
       " 1,\n",
       " 1,\n",
       " 1,\n",
       " 1,\n",
       " 1,\n",
       " 0.0,\n",
       " 1,\n",
       " 1,\n",
       " 1,\n",
       " 0.0,\n",
       " 0.0,\n",
       " 0.0,\n",
       " 0.0,\n",
       " 1,\n",
       " 1,\n",
       " 0.0,\n",
       " 1,\n",
       " 0.0,\n",
       " 1,\n",
       " 1,\n",
       " 0.0,\n",
       " 1,\n",
       " 1,\n",
       " 1,\n",
       " 0.0,\n",
       " 0.0,\n",
       " 1,\n",
       " 0.0,\n",
       " 1,\n",
       " 1,\n",
       " 0.0,\n",
       " 1,\n",
       " 1,\n",
       " 0.0,\n",
       " 0.0,\n",
       " 0.0,\n",
       " 0.0,\n",
       " 1,\n",
       " 0.0,\n",
       " 0.0,\n",
       " 1,\n",
       " 1,\n",
       " 1,\n",
       " 1,\n",
       " 1,\n",
       " 0.0,\n",
       " 1,\n",
       " 0.0,\n",
       " 0.0,\n",
       " 1,\n",
       " 1,\n",
       " 0.0,\n",
       " 0.0,\n",
       " 1,\n",
       " 0.0,\n",
       " 1,\n",
       " 1,\n",
       " 1,\n",
       " 0.0,\n",
       " 0.0,\n",
       " 1,\n",
       " 0.0,\n",
       " 0.0,\n",
       " 0.0,\n",
       " 1,\n",
       " 1,\n",
       " 0.0,\n",
       " 0.0,\n",
       " 1,\n",
       " 1,\n",
       " 1,\n",
       " 0.0,\n",
       " 1,\n",
       " 1,\n",
       " 1,\n",
       " 1,\n",
       " 1,\n",
       " 1,\n",
       " 0.0,\n",
       " 1,\n",
       " 1,\n",
       " 0.0,\n",
       " 0.0,\n",
       " 1,\n",
       " 0.0,\n",
       " 1,\n",
       " 1,\n",
       " 0.0,\n",
       " 1,\n",
       " 1,\n",
       " 0.0,\n",
       " 0.0,\n",
       " 1,\n",
       " 0.0,\n",
       " 0.0,\n",
       " 0.0,\n",
       " 1,\n",
       " 0.0,\n",
       " 0.0,\n",
       " 1,\n",
       " 0.0,\n",
       " 0.0,\n",
       " 1,\n",
       " 1,\n",
       " 1,\n",
       " 1,\n",
       " 1,\n",
       " 0.0,\n",
       " 1,\n",
       " 0.0,\n",
       " 0.0,\n",
       " 0.0,\n",
       " 1,\n",
       " 0.0,\n",
       " 0.0,\n",
       " 1,\n",
       " 0.0,\n",
       " 1,\n",
       " 1,\n",
       " 1,\n",
       " 1,\n",
       " 1,\n",
       " 0.0,\n",
       " 0.0,\n",
       " 1,\n",
       " 0.0,\n",
       " 0.0,\n",
       " 1,\n",
       " 1,\n",
       " 1,\n",
       " 1,\n",
       " 0.0,\n",
       " 1,\n",
       " 0.0,\n",
       " 1,\n",
       " 0.0,\n",
       " 0.0,\n",
       " 0.0,\n",
       " 0.0,\n",
       " 1,\n",
       " 0.0,\n",
       " 1,\n",
       " 0.0,\n",
       " 0.0,\n",
       " 1,\n",
       " 1,\n",
       " 1,\n",
       " 1,\n",
       " 1,\n",
       " 0.0,\n",
       " 0.0,\n",
       " 0.0,\n",
       " 0.0,\n",
       " 0.0,\n",
       " 1,\n",
       " 1,\n",
       " 1,\n",
       " 1,\n",
       " 0.0,\n",
       " 0.0,\n",
       " 1,\n",
       " 1,\n",
       " 1,\n",
       " 1,\n",
       " 1,\n",
       " 1,\n",
       " 1,\n",
       " 0.0,\n",
       " 1,\n",
       " 0.0,\n",
       " 0.0,\n",
       " 0.0,\n",
       " 1,\n",
       " 1,\n",
       " 1,\n",
       " 1,\n",
       " 1,\n",
       " 1,\n",
       " 0.0,\n",
       " 1,\n",
       " 1,\n",
       " 0.0,\n",
       " 1,\n",
       " 0.0,\n",
       " 1,\n",
       " 1,\n",
       " 0.0,\n",
       " 0.0,\n",
       " 1,\n",
       " 1,\n",
       " 0.0,\n",
       " 0.0,\n",
       " 0.0,\n",
       " 0.0,\n",
       " 0.0,\n",
       " 0.0,\n",
       " 0.0,\n",
       " 0.0,\n",
       " 1,\n",
       " 1,\n",
       " 1,\n",
       " 0.0,\n",
       " 0.0,\n",
       " 0.0,\n",
       " 1,\n",
       " 0.0,\n",
       " 1,\n",
       " 1,\n",
       " 1,\n",
       " 0.0,\n",
       " 1,\n",
       " 1,\n",
       " 0.0,\n",
       " 0.0,\n",
       " 1,\n",
       " 0.0,\n",
       " 0.0,\n",
       " 0.0,\n",
       " 1,\n",
       " 1,\n",
       " 1,\n",
       " 1,\n",
       " 0.0,\n",
       " 0.0,\n",
       " 0.0,\n",
       " 0.0,\n",
       " 0.0,\n",
       " 0.0,\n",
       " 1,\n",
       " 1,\n",
       " 0.0,\n",
       " 0.0,\n",
       " 1,\n",
       " 1,\n",
       " 0.0,\n",
       " 1,\n",
       " 0.0,\n",
       " 1,\n",
       " 1,\n",
       " 0.0,\n",
       " 0.0,\n",
       " 1,\n",
       " 1,\n",
       " 0.0,\n",
       " 0.0,\n",
       " 1,\n",
       " 0.0,\n",
       " 1,\n",
       " 1,\n",
       " 0.0,\n",
       " 0.0,\n",
       " 0.0,\n",
       " 1,\n",
       " ...]"
      ]
     },
     "execution_count": 84,
     "metadata": {},
     "output_type": "execute_result"
    }
   ],
   "source": [
    "predicted_value = list(map(lambda x: 0.0 if x<0.5 else 1, predicted_prob))\n",
    "predicted_value"
   ]
  },
  {
   "cell_type": "code",
   "execution_count": 85,
   "id": "d3804707",
   "metadata": {},
   "outputs": [
    {
     "name": "stdout",
     "output_type": "stream",
     "text": [
      "Confusion Matrix : \n",
      " [[10777  1723]\n",
      " [ 1201 11299]]\n"
     ]
    }
   ],
   "source": [
    "print(f'Confusion Matrix : \\n {confusion_matrix(y_test,predicted_value)}')"
   ]
  },
  {
   "cell_type": "code",
   "execution_count": 78,
   "id": "51531b72",
   "metadata": {},
   "outputs": [
    {
     "data": {
      "text/plain": [
       "array([0.16871363], dtype=float32)"
      ]
     },
     "execution_count": 78,
     "metadata": {},
     "output_type": "execute_result"
    }
   ],
   "source": [
    "predicted[0]"
   ]
  },
  {
   "cell_type": "code",
   "execution_count": 79,
   "id": "98b6f3fc",
   "metadata": {},
   "outputs": [
    {
     "data": {
      "text/plain": [
       "0.0"
      ]
     },
     "execution_count": 79,
     "metadata": {},
     "output_type": "execute_result"
    }
   ],
   "source": [
    "y_test[0]"
   ]
  },
  {
   "cell_type": "code",
   "execution_count": 76,
   "id": "70003263",
   "metadata": {},
   "outputs": [],
   "source": [
    "from sklearn.metrics import accuracy_score, f1_score, confusion_matrix, roc_auc_score"
   ]
  },
  {
   "cell_type": "code",
   "execution_count": 2,
   "id": "ef19f63a",
   "metadata": {},
   "outputs": [
    {
     "name": "stdout",
     "output_type": "stream",
     "text": [
      "Train set Performance\n"
     ]
    },
    {
     "ename": "NameError",
     "evalue": "name 'accuracy_score' is not defined",
     "output_type": "error",
     "traceback": [
      "\u001b[1;31m---------------------------------------------------------------------------\u001b[0m",
      "\u001b[1;31mNameError\u001b[0m                                 Traceback (most recent call last)",
      "\u001b[1;32m~\\AppData\\Local\\Temp\\ipykernel_2000\\432207928.py\u001b[0m in \u001b[0;36m<module>\u001b[1;34m\u001b[0m\n\u001b[0;32m      1\u001b[0m \u001b[0mprint\u001b[0m\u001b[1;33m(\u001b[0m\u001b[1;34m'Train set Performance'\u001b[0m\u001b[1;33m)\u001b[0m\u001b[1;33m\u001b[0m\u001b[1;33m\u001b[0m\u001b[0m\n\u001b[1;32m----> 2\u001b[1;33m \u001b[0mprint\u001b[0m\u001b[1;33m(\u001b[0m\u001b[1;34mf'Accuracy is {accuracy_score(y_test,predicted_value)}'\u001b[0m\u001b[1;33m)\u001b[0m\u001b[1;33m\u001b[0m\u001b[1;33m\u001b[0m\u001b[0m\n\u001b[0m\u001b[0;32m      3\u001b[0m \u001b[0mprint\u001b[0m\u001b[1;33m(\u001b[0m\u001b[1;34mf'Confusion Matrix : \\n {confusion_matrix(y_test,predicted_value)}'\u001b[0m\u001b[1;33m)\u001b[0m\u001b[1;33m\u001b[0m\u001b[1;33m\u001b[0m\u001b[0m\n\u001b[0;32m      4\u001b[0m \u001b[0mprint\u001b[0m\u001b[1;33m(\u001b[0m\u001b[1;34mf'ROC_AUC_Score: {roc_auc_score(y_test,predicted_value)}'\u001b[0m\u001b[1;33m)\u001b[0m\u001b[1;33m\u001b[0m\u001b[1;33m\u001b[0m\u001b[0m\n",
      "\u001b[1;31mNameError\u001b[0m: name 'accuracy_score' is not defined"
     ]
    }
   ],
   "source": [
    "print('Train set Performance')\n",
    "print(f'Accuracy is {accuracy_score(y_test,predicted_value)}')\n",
    "print(f'Confusion Matrix : \\n {confusion_matrix(y_test,predicted_value)}')\n",
    "print(f'ROC_AUC_Score: {roc_auc_score(y_test,predicted_value)}')"
   ]
  },
  {
   "cell_type": "markdown",
   "id": "56ca252d",
   "metadata": {},
   "source": [
    "### Model Training using Regulariation"
   ]
  },
  {
   "cell_type": "markdown",
   "id": "b527233a",
   "metadata": {},
   "source": []
  }
 ],
 "metadata": {
  "kernelspec": {
   "display_name": "Python 3 (ipykernel)",
   "language": "python",
   "name": "python3"
  },
  "language_info": {
   "codemirror_mode": {
    "name": "ipython",
    "version": 3
   },
   "file_extension": ".py",
   "mimetype": "text/x-python",
   "name": "python",
   "nbconvert_exporter": "python",
   "pygments_lexer": "ipython3",
   "version": "3.7.16"
  }
 },
 "nbformat": 4,
 "nbformat_minor": 5
}
